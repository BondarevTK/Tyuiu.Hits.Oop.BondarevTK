{
 "cells": [
  {
   "cell_type": "markdown",
   "metadata": {},
   "source": [
    "<h1 style=\"color:DodgerBlue\">Индивидальный проект</h1>"
   ]
  },
  {
   "cell_type": "markdown",
   "metadata": {},
   "source": [
    "<h2 style=\"color:DodgerBlue\">Название проекта:</h2>\n",
    "\n",
    "----\n",
    "\n",
    "### Вариант задания \n"
   ]
  },
  {
   "cell_type": "markdown",
   "metadata": {},
   "source": [
    "<h2 style=\"color:DodgerBlue\">Описание проекта:</h2>\n",
    "\n",
    "----\n",
    "\n",
    "[ваш текст]\n",
    "\n",
    "#### Дополнительное задание\n",
    "Добавьте к сущестующим классам (базовыму и производным 3-4 атрибута и метода) и реализуйте полиморфизм с перекрытием и прегегрузкой методов, а также generic классы"
   ]
  },
  {
   "cell_type": "markdown",
   "metadata": {},
   "source": [
    "<h2 style=\"color:DodgerBlue\">Реализация:</h2>\n",
    "\n",
    "----"
   ]
  },
  {
   "cell_type": "code",
   "execution_count": 2,
   "metadata": {
    "dotnet_interactive": {
     "language": "csharp"
    },
    "polyglot_notebook": {
     "kernelName": "csharp"
    }
   },
   "outputs": [
    {
     "name": "stdout",
     "output_type": "stream",
     "text": [
      "title is Somehitng About Life, director is Steven Spillberg, Release year is 1999\n",
      "title is Somehitng About Death, director is Steven Spillberg, Release year is 1999\n"
     ]
    }
   ],
   "source": [
    "interface IGetInfo\n",
    "{\n",
    "    void GetInfo();\n",
    "}\n",
    "interface IWatch\n",
    "{\n",
    "    void Watch();\n",
    "}\n",
    "interface IRate\n",
    "{\n",
    "    void Rate(int rating);\n",
    "}\n",
    "abstract class movie : IRate, IGetInfo, IWatch\n",
    "{\n",
    "    protected string Title{get;set;}\n",
    "    public int Rating{get;set;}\n",
    "    protected string Director{get;set;}\n",
    "    protected string ReleaseYear{get;set;}\n",
    "    public virtual void Rate(int rating)\n",
    "    {\n",
    "        Rating = rating;\n",
    "        Console.WriteLine($\"film's rating is {rating}\");\n",
    "    }\n",
    "    public virtual void Watch()\n",
    "    {\n",
    "        Console.WriteLine(\"Фильм просматриваеться\");\n",
    "    }\n",
    "    public virtual void Watch(int time)\n",
    "    {\n",
    "        Console.WriteLine($\"Фильм просматриваеться на протяжении {time}\");\n",
    "    }\n",
    "    public virtual void GetInfo()\n",
    "    {\n",
    "        Console.WriteLine($\"title is {Title}, director is {Director}, Release year is {ReleaseYear}\");\n",
    "    }\n",
    "}\n",
    "class documentary : movie\n",
    "{\n",
    "    public string Theme{get;set;}\n",
    "    public documentary(string title, string director, string releaseYear, string theme)\n",
    "    {\n",
    "        Title = title;\n",
    "        Director = director;\n",
    "        ReleaseYear = releaseYear;\n",
    "        Theme = theme;\n",
    "    }\n",
    "    public override void Watch()\n",
    "    {\n",
    "        Console.WriteLine($\"Фильм на тему {Theme} просматриваеться\");\n",
    "    }\n",
    "}\n",
    "class FeatureFilm : movie\n",
    "{\n",
    "    public string Genre{get;set;}\n",
    "    public FeatureFilm(string title, string director, string releaseYear, string genre)\n",
    "    {\n",
    "        Title = title;\n",
    "        Director = director;\n",
    "        ReleaseYear = releaseYear;\n",
    "        Genre = genre;\n",
    "    }\n",
    "    public override void Rate(int rating)\n",
    "    {\n",
    "        Rating = rating;\n",
    "        Console.WriteLine($\"рейтинг фильма жанра {Genre} теперь {Rating}\");\n",
    "    }\n",
    "}\n",
    "class AnimatedMovie : movie\n",
    "{\n",
    "    public string AnimationStudio{get;set;}\n",
    "    public AnimatedMovie(string title, string director, string releaseYear, string animationStudio)\n",
    "    {\n",
    "        Title = title;\n",
    "        Director = director;\n",
    "        ReleaseYear = releaseYear;\n",
    "        AnimationStudio = animationStudio;\n",
    "    }\n",
    "    public override void GetInfo()\n",
    "    {\n",
    "        Console.WriteLine($\"title is {Title}, director is {Director}, Release year is {ReleaseYear}, Animation studio is {AnimationStudio}\");\n",
    "    }\n",
    "}\n",
    "class MovieCollection<T> where T : movie\n",
    "{\n",
    "    private List<T> movieCollection = new List<T>();\n",
    "    public void add(T movie)\n",
    "    {\n",
    "        movieCollection.Add(movie);\n",
    "    }\n",
    "    public void remove(T movie)\n",
    "    {\n",
    "        movieCollection.Remove(movie);\n",
    "    }\n",
    "    public void DisplayCollection()\n",
    "    {\n",
    "        foreach(var movie in movieCollection)\n",
    "        {\n",
    "            movie.GetInfo();\n",
    "        }\n",
    "    }\n",
    "}\n",
    "documentary SomehitngAboutLife = new documentary(\"Somehitng About Life\",\"Steven Spillberg\",\"1999\",\"Philosophy\");\n",
    "documentary SomehitngAboutDeath = new documentary(\"Somehitng About Death\",\"Steven Spillberg\",\"1999\",\"Philosophy\");\n",
    "MovieCollection<movie> movieCollection = new();\n",
    "movieCollection.add(SomehitngAboutLife);\n",
    "movieCollection.add(SomehitngAboutDeath);\n",
    "movieCollection.DisplayCollection()\n"
   ]
  }
 ],
 "metadata": {
  "kernelspec": {
   "display_name": ".NET (C#)",
   "language": "C#",
   "name": ".net-csharp"
  },
  "polyglot_notebook": {
   "kernelInfo": {
    "defaultKernelName": "csharp",
    "items": [
     {
      "aliases": [],
      "languageName": "csharp",
      "name": "csharp"
     }
    ]
   }
  }
 },
 "nbformat": 4,
 "nbformat_minor": 2
}
