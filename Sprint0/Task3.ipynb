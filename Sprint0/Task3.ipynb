{
 "cells": [
  {
   "cell_type": "markdown",
   "metadata": {},
   "source": [
    "<h1 style=\"color:DodgerBlue\">Индивидальный проект</h1>"
   ]
  },
  {
   "cell_type": "markdown",
   "metadata": {},
   "source": [
    "<h2 style=\"color:DodgerBlue\">Название проекта:</h2>\n",
    "\n",
    "----\n",
    "\n",
    "### Вариант задания 6\n"
   ]
  },
  {
   "cell_type": "markdown",
   "metadata": {},
   "source": [
    "<h2 style=\"color:DodgerBlue\">Описание проекта:</h2>\n",
    "\n",
    "----\n",
    "\n",
    "[ваш текст]\n"
   ]
  },
  {
   "cell_type": "markdown",
   "metadata": {},
   "source": [
    "<h2 style=\"color:DodgerBlue\">Реализация:</h2>\n",
    "\n",
    "----"
   ]
  },
  {
   "cell_type": "code",
   "execution_count": null,
   "metadata": {
    "dotnet_interactive": {
     "language": "csharp"
    },
    "polyglot_notebook": {
     "kernelName": "csharp"
    }
   },
   "outputs": [],
   "source": [
    "interface IGetInfo\n",
    "{\n",
    "    void GetInfo();\n",
    "}\n",
    "interface IWatch\n",
    "{\n",
    "    void Watch();\n",
    "}\n",
    "interface IRate\n",
    "{\n",
    "    void Rate();\n",
    "}\n",
    "class movie : IRate, IGetInfo, IWatch\n",
    "{\n",
    "    public string Title{get;set;}\n",
    "    public string Director{get;set;}\n",
    "    public string ReleaseYear{get;set;}\n",
    "    protected string title;\n",
    "    protected string director;\n",
    "    protected string releaseYear;\n",
    "    public virtual void Rate()\n",
    "    {\n",
    "        Console.WriteLine(\"Оцените фильм\");\n",
    "    }\n",
    "    public virtual void Watch()\n",
    "    {\n",
    "        Console.WriteLine(\"Фильм просматриваеться\");\n",
    "    }\n",
    "    public virtual void GetInfo()\n",
    "    {\n",
    "        Console.WriteLine($\"title is {title}, director is {director}, Release year is {releaseYear}\");\n",
    "    }\n",
    "}\n",
    "class documentary : movie\n",
    "{\n",
    "    private string theme;\n",
    "    public string Theme{get;set;}\n",
    "    public documentary(string Title, string Director, string ReleaseYear, string Theme)\n",
    "    {\n",
    "        title = Title;\n",
    "        director = Director;\n",
    "        releaseYear = ReleaseYear;\n",
    "        theme = Theme;\n",
    "    }\n",
    "    public override void Watch()\n",
    "    {\n",
    "        Console.WriteLine($\"Фильм на тему {theme} просматриваеться\");\n",
    "    }\n",
    "}\n",
    "class FeatureFilm : movie\n",
    "{\n",
    "    private string genre;\n",
    "    public string Genre{get;set;}\n",
    "    public FeatureFilm(string Title, string Director, string ReleaseYear, string Genre)\n",
    "    {\n",
    "        title = Title;\n",
    "        director = Director;\n",
    "        releaseYear = ReleaseYear;\n",
    "        genre=Genre;\n",
    "    }\n",
    "    public override void Rate()\n",
    "    {\n",
    "        Console.WriteLine($\"Оцените фильм жанра {genre}\");\n",
    "    }\n",
    "}\n",
    "class AnimatedMovie : movie\n",
    "{\n",
    "    private string animationStudio;\n",
    "    public string AnimationStudio{get;set;}\n",
    "    public AnimatedMovie(string Title, string Director, string ReleaseYear, string AnimationStudio)\n",
    "    {\n",
    "        title = Title;\n",
    "        director = Director;\n",
    "        releaseYear = ReleaseYear;\n",
    "        animationStudio=AnimationStudio;\n",
    "    }\n",
    "    public override void GetInfo()\n",
    "    {\n",
    "        Console.WriteLine($\"title is {title}, director is {director}, Release year is {releaseYear}, Animation studio is {animationStudio}\");\n",
    "    }\n",
    "}\n",
    "\n"
   ]
  }
 ],
 "metadata": {
  "kernelspec": {
   "display_name": ".NET (C#)",
   "language": "C#",
   "name": ".net-csharp"
  },
  "polyglot_notebook": {
   "kernelInfo": {
    "defaultKernelName": "csharp",
    "items": [
     {
      "aliases": [],
      "languageName": "csharp",
      "name": "csharp"
     }
    ]
   }
  }
 },
 "nbformat": 4,
 "nbformat_minor": 2
}
